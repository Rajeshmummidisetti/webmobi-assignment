{
  "nbformat": 4,
  "nbformat_minor": 0,
  "metadata": {
    "colab": {
      "provenance": []
    },
    "kernelspec": {
      "name": "python3",
      "display_name": "Python 3"
    },
    "language_info": {
      "name": "python"
    }
  },
  "cells": [
    {
      "cell_type": "code",
      "source": [
        "from transformers import AutoModelForCausalLM, AutoTokenizer\n",
        "import torch\n",
        "\n",
        "# Load pre-trained model and tokenizer\n",
        "model_name = \"microsoft/DialoGPT-medium\"\n",
        "tokenizer = AutoTokenizer.from_pretrained(model_name)\n",
        "model = AutoModelForCausalLM.from_pretrained(model_name)\n",
        "\n",
        "def generate_response(conversation_history, new_user_input):\n",
        "    # Encode the new user input and add the eos_token\n",
        "    new_user_input_ids = tokenizer.encode(new_user_input + tokenizer.eos_token, return_tensors='pt')\n",
        "\n",
        "    # Append the new user input tokens to the chat history\n",
        "    bot_input_ids = torch.cat([conversation_history, new_user_input_ids], dim=-1) if conversation_history is not None else new_user_input_ids\n",
        "\n",
        "    # Generate a response\n",
        "    chat_history_ids = model.generate(bot_input_ids, max_length=1000, pad_token_id=tokenizer.eos_token_id)\n",
        "\n",
        "    # Decode the response\n",
        "    response = tokenizer.decode(chat_history_ids[:, bot_input_ids.shape[-1]:][0], skip_special_tokens=True)\n",
        "\n",
        "    return response, chat_history_ids\n",
        "\n",
        "def interact_with_bot():\n",
        "    conversation = {\n",
        "        \"name\": \"\",\n",
        "        \"email\": \"\",\n",
        "        \"company\": \"\"\n",
        "    }\n",
        "    conversation_history = None\n",
        "\n",
        "    # Greeting\n",
        "    print(\"Bot: Hello! Welcome to our service. What's your name?\")\n",
        "    user_input = input(\"user: \")\n",
        "    conversation[\"name\"] = user_input\n",
        "    conversation_history = tokenizer.encode(\"Hello! Welcome to our service. What's your name? \" + user_input + tokenizer.eos_token, return_tensors='pt')\n",
        "\n",
        "    # Asking for email\n",
        "    email_prompt = f\"Nice to meet you, {conversation['name']}! Can I have your email address?\"\n",
        "    print(f\"Bot: {email_prompt}\")\n",
        "    user_input = input(\"User: \")\n",
        "    conversation[\"email\"] = user_input\n",
        "    conversation_history = torch.cat([conversation_history, tokenizer.encode(email_prompt + user_input + tokenizer.eos_token, return_tensors='pt')], dim=-1)\n",
        "\n",
        "    # Asking for company\n",
        "    company_prompt = f\"Thanks, {conversation['name']}. Lastly, could you tell me the name of your company?\"\n",
        "    print(f\"Bot: {company_prompt}\")\n",
        "    user_input = input(\"User: \")\n",
        "    conversation[\"company\"] = user_input\n",
        "    conversation_history = torch.cat([conversation_history, tokenizer.encode(company_prompt + user_input + tokenizer.eos_token, return_tensors='pt')], dim=-1)\n",
        "\n",
        "    # Confirmation\n",
        "    confirmation = f\"Great! Thank you, {conversation['name']}. I have your details as {conversation['name']}, {conversation['email']}, {conversation['company']}.\"\n",
        "    print(f\"Bot: {confirmation}\")\n",
        "\n",
        "# Run the bot interaction\n",
        "interact_with_bot()\n"
      ],
      "metadata": {
        "colab": {
          "base_uri": "https://localhost:8080/"
        },
        "id": "phVuGMxXex5S",
        "outputId": "62c9cd01-33b0-4ff6-c31e-9fccfd31b46e"
      },
      "execution_count": 6,
      "outputs": [
        {
          "output_type": "stream",
          "name": "stdout",
          "text": [
            "Bot: Hello! Welcome to our service. What's your name?\n",
            "user: Rajesh\n",
            "Bot: Nice to meet you, Rajesh! Can I have your email address?\n",
            "User: rajesh@gmail.com\n",
            "Bot: Thanks, Rajesh. Lastly, could you tell me the name of your company?\n",
            "User: Webmobi\n",
            "Bot: Great! Thank you, Rajesh. I have your details as Rajesh, rajesh@gmail.com, Webmobi.\n"
          ]
        }
      ]
    },
    {
      "cell_type": "code",
      "source": [],
      "metadata": {
        "id": "ohGWVy_5gftw"
      },
      "execution_count": null,
      "outputs": []
    }
  ]
}